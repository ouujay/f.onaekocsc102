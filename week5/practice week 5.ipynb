{
 "cells": [
  {
   "cell_type": "code",
   "execution_count": 19,
   "id": "49a72136",
   "metadata": {},
   "outputs": [
    {
     "ename": "SyntaxError",
     "evalue": "invalid syntax (1810673838.py, line 3)",
     "output_type": "error",
     "traceback": [
      "\u001b[1;36m  Cell \u001b[1;32mIn[19], line 3\u001b[1;36m\u001b[0m\n\u001b[1;33m    print(num * 10) print(num * 10)\u001b[0m\n\u001b[1;37m                    ^\u001b[0m\n\u001b[1;31mSyntaxError\u001b[0m\u001b[1;31m:\u001b[0m invalid syntax\n"
     ]
    }
   ],
   "source": [
    "for num in range(10):\n",
    "    if num > 0:\n",
    "        print(num * 10) "
   ]
  },
  {
   "cell_type": "code",
   "execution_count": 4,
   "id": "283a5538",
   "metadata": {},
   "outputs": [
    {
     "name": "stdout",
     "output_type": "stream",
     "text": [
      "10\n",
      "20\n",
      "30\n",
      "40\n",
      "50\n"
     ]
    }
   ],
   "source": [
    "count = [10,20,30,40,50]\n",
    "for num in count:\n",
    "    print(num)"
   ]
  },
  {
   "cell_type": "code",
   "execution_count": 5,
   "id": "7006026f",
   "metadata": {},
   "outputs": [
    {
     "name": "stdout",
     "output_type": "stream",
     "text": [
      "1\n",
      "2\n",
      "3\n",
      "4\n",
      "5\n"
     ]
    }
   ],
   "source": [
    "count = 1\n",
    "while count <= 5:\n",
    "    print(count)\n",
    "    count += 1"
   ]
  },
  {
   "cell_type": "code",
   "execution_count": 13,
   "id": "453f0991",
   "metadata": {},
   "outputs": [
    {
     "name": "stdout",
     "output_type": "stream",
     "text": [
      "Enter numbers to find their sum , negaetive number endsthe loop:\n",
      "345\n",
      "345\n",
      "234\n",
      "34\n",
      "3245\n",
      "34\n",
      "34\n",
      "34\n",
      "-4\n",
      "Sum = 4305\n"
     ]
    }
   ],
   "source": [
    "entry = 0\n",
    "sum1 = 0\n",
    "print(\"Enter numbers to find their sum , negaetive number endsthe loop:\")\n",
    "while  True:\n",
    "    #int()typecasts string to integer \n",
    "    entry = int (input())\n",
    "    if (entry < 0):\n",
    "        break \n",
    "    sum1 += entry\n",
    "print(\"Sum =\", sum1)\n",
    "    "
   ]
  },
  {
   "cell_type": "code",
   "execution_count": 15,
   "id": "f398deb3",
   "metadata": {},
   "outputs": [
    {
     "name": "stdout",
     "output_type": "stream",
     "text": [
      "Num has a value1\n",
      "Num has a value2\n",
      "Num has a value4\n",
      "Num has a value5\n",
      "Num has a value6\n",
      "End of loop\n"
     ]
    }
   ],
   "source": [
    "num = 0\n",
    "for num in range(6):\n",
    "    num = num + 1\n",
    "    if num == 3:\n",
    "        continue\n",
    "    print('Num has a value' + str(num))\n",
    "print('End of loop')       "
   ]
  },
  {
   "cell_type": "code",
   "execution_count": 17,
   "id": "fd0d3725",
   "metadata": {},
   "outputs": [
    {
     "name": "stdout",
     "output_type": "stream",
     "text": [
      "Iteration1 of outer loop\n",
      "1\n",
      "2\n",
      "out of inner loop\n",
      "Iteration2 of outer loop\n",
      "1\n",
      "2\n",
      "out of inner loop\n",
      "Iteration3 of outer loop\n",
      "1\n",
      "2\n",
      "out of inner loop\n",
      "out of outer loop\n"
     ]
    }
   ],
   "source": [
    "for var1 in range(3):\n",
    "    print( \"Iteration\" + str(var1 + 1) + \" of outer loop\")\n",
    "    for var2 in range(2): #nested loop\n",
    "        print(var2 +1)\n",
    "    print(\"out of inner loop\")\n",
    "print(\"out of outer loop\")"
   ]
  },
  {
   "cell_type": "code",
   "execution_count": 20,
   "id": "a075363e",
   "metadata": {},
   "outputs": [
    {
     "name": "stdout",
     "output_type": "stream",
     "text": [
      "         Name  Age  Height  Score\n",
      "0    Samantha   17     5.5     80\n",
      "1        Jada   16     6.0     85\n",
      "2        Jane   17     5.4     70\n",
      "3      Claire   18     5.9     60\n",
      "4   Elizabeth   16     5.6     76\n",
      "5        Mary   18     5.5     66\n",
      "6       Susan   17     6.1     87\n",
      "7        Waje   20     6.0     95\n",
      "8      Taibat   19     5.7     50\n",
      "9      Lilian   17     5.5     49\n",
      "10    Charles   19     5.7     74\n",
      "11       Jude   16     5.9     87\n",
      "12      James   18     5.8     75\n",
      "13     Kelvin   17     6.1     68\n",
      "14     Biodun   20     5.9     66\n",
      "15       Wale   19     5.5     78\n",
      "16      Kunle   16     6.1     87\n",
      "17    Matthew   18     5.4     98\n",
      "18        Tom   17     5.8     54\n",
      "19     Kayode   19     5.7     60\n"
     ]
    }
   ],
   "source": []
  },
  {
   "cell_type": "code",
   "execution_count": 3,
   "id": "efc0cd53",
   "metadata": {},
   "outputs": [
    {
     "name": "stdout",
     "output_type": "stream",
     "text": [
      "Enter name of the city 1: # program to check if a number is positivee, negative \n",
      "Enter name of city 2: sdfg\n",
      "The name of the city 1 after swapping is sdfg\n",
      "The name of city 2 after swapping is # program to check if a number is positivee, negative \n"
     ]
    }
   ],
   "source": [
    "# python program to swap two cities \n",
    "\n",
    "#to take inputs from the user\n",
    "city_1 = input('Enter name of the city 1: ')\n",
    "city_2 = input('Enter name of city 2: ')\n",
    "\n",
    "#create a temporary variable and swap the cities \n",
    "temp = city_1\n",
    "city_1 = city_2\n",
    "city_2 = temp\n",
    "\n",
    "print(f\"The name of the city 1 after swapping is {city_1}\")\n",
    "print(f\"The name of city 2 after swapping is {city_2}\")"
   ]
  },
  {
   "cell_type": "code",
   "execution_count": null,
   "id": "d4496a18",
   "metadata": {},
   "outputs": [],
   "source": [
    "# program to check if a number is positivee, negative   or 0 \n",
    "num = float(input(\"enter a number: \"))\n",
    "if num > 0:\n",
    "    print(\"positive number\")\n",
    "elif num == 0:\n",
    "    print(\"zero\")\n",
    "else:\n",
    "    print(\"negative number\")"
   ]
  },
  {
   "cell_type": "code",
   "execution_count": null,
   "id": "260aa331",
   "metadata": {},
   "outputs": [],
   "source": [
    "# coupe de escriva football picks \n",
    "print(\"welcome to the coupe de escriva 2023: football pics \\n\")      \n",
    "\n",
    "captain = {'maDIBA: ': 'CHUBBY obiora-okafo',}"
   ]
  },
  {
   "cell_type": "code",
   "execution_count": null,
   "id": "5fb859a3",
   "metadata": {},
   "outputs": [],
   "source": []
  },
  {
   "cell_type": "code",
   "execution_count": null,
   "id": "191e9d1c",
   "metadata": {},
   "outputs": [],
   "source": []
  }
 ],
 "metadata": {
  "kernelspec": {
   "display_name": "Python 3 (ipykernel)",
   "language": "python",
   "name": "python3"
  },
  "language_info": {
   "codemirror_mode": {
    "name": "ipython",
    "version": 3
   },
   "file_extension": ".py",
   "mimetype": "text/x-python",
   "name": "python",
   "nbconvert_exporter": "python",
   "pygments_lexer": "ipython3",
   "version": "3.10.9"
  }
 },
 "nbformat": 4,
 "nbformat_minor": 5
}
