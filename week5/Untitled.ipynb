{
 "cells": [
  {
   "cell_type": "code",
   "execution_count": 1,
   "id": "e3181b0b",
   "metadata": {},
   "outputs": [
    {
     "name": "stdout",
     "output_type": "stream",
     "text": [
      "         Name  Age  Height  Score\n",
      "0    Samantha   17     5.5     80\n",
      "1        Jada   16     6.0     85\n",
      "2        Jane   17     5.4     70\n",
      "3      Claire   18     5.9     60\n",
      "4   Elizabeth   16     5.6     76\n",
      "5        Mary   18     5.5     66\n",
      "6       Susan   17     6.1     87\n",
      "7        Waje   20     6.0     95\n",
      "8      Taibat   19     5.7     50\n",
      "9      Lilian   17     5.5     49\n",
      "10    Charles   19     5.7     74\n",
      "11       Jude   16     5.9     87\n",
      "12      James   18     5.8     75\n",
      "13     Kelvin   17     6.1     68\n",
      "14     Biodun   20     5.9     66\n",
      "15       Wale   19     5.5     78\n",
      "16      Kunle   16     6.1     87\n",
      "17    Matthew   18     5.4     98\n",
      "18        Tom   17     5.8     54\n",
      "19     Kayode   19     5.7     60\n"
     ]
    }
   ],
   "source": [
    "import pandas as pd\n",
    "\n",
    "# Girls' data\n",
    "girls_names = [\"Samantha\", \"Jada\", \"Jane\", \"Claire\", \"Elizabeth\", \"Mary\", \"Susan\", \"Waje\", \"Taibat\", \"Lilian\"]\n",
    "girls_age = [17, 16, 17, 18, 16, 18, 17, 20, 19, 17]\n",
    "girls_height = [5.5, 6.0, 5.4, 5.9, 5.6, 5.5, 6.1, 6.0, 5.7, 5.5]\n",
    "girls_scores = [80, 85, 70, 60, 76, 66, 87, 95, 50, 49]\n",
    "\n",
    "# Boys' data\n",
    "boys_names = [\"Charles\", \"Jude\", \"James\", \"Kelvin\", \"Biodun\", \"Wale\", \"Kunle\", \"Matthew\", \"Tom\", \"Kayode\"]\n",
    "boys_age = [19, 16, 18, 17, 20, 19, 16, 18, 17, 19]\n",
    "boys_height = [5.7, 5.9, 5.8, 6.1, 5.9, 5.5, 6.1, 5.4, 5.8, 5.7]\n",
    "boys_scores = [74, 87, 75, 68, 66, 78, 87, 98, 54, 60]\n",
    "\n",
    "# Create a dictionary\n",
    "data = {\n",
    "    \"Name\": girls_names + boys_names,\n",
    "    \"Age\": girls_age + boys_age,\n",
    "    \"Height\": girls_height + boys_height,\n",
    "    \"Score\": girls_scores + boys_scores\n",
    "}\n",
    "\n",
    "# Create a DataFrame\n",
    "df = pd.DataFrame(data)\n",
    "\n",
    "# Print the DataFrame\n",
    "print(df)\n"
   ]
  },
  {
   "cell_type": "code",
   "execution_count": null,
   "id": "2fc080a2",
   "metadata": {},
   "outputs": [],
   "source": []
  }
 ],
 "metadata": {
  "kernelspec": {
   "display_name": "Python 3 (ipykernel)",
   "language": "python",
   "name": "python3"
  },
  "language_info": {
   "codemirror_mode": {
    "name": "ipython",
    "version": 3
   },
   "file_extension": ".py",
   "mimetype": "text/x-python",
   "name": "python",
   "nbconvert_exporter": "python",
   "pygments_lexer": "ipython3",
   "version": "3.10.9"
  }
 },
 "nbformat": 4,
 "nbformat_minor": 5
}
