{
 "cells": [
  {
   "cell_type": "code",
   "execution_count": 9,
   "id": "97467532",
   "metadata": {},
   "outputs": [
    {
     "name": "stdout",
     "output_type": "stream",
     "text": [
      "Yega Services at your service \n",
      "We offer location:\n",
      "ibejulekki\n",
      "epe\n",
      "input the location: fjgg\n",
      "input the weight: 234\n",
      "we do not offer those sevices \n"
     ]
    }
   ],
   "source": [
    "\n",
    "def ibejulekki():\n",
    "    print(\"Your price to pay is N2000\")\n",
    "def ibejulekkiless():\n",
    "    print('Your price to pay is N1500')\n",
    "def Epe():\n",
    "    print('Your price to pay is N5000')\n",
    "def epeless():\n",
    "    print('your price to pay is N4000')\n",
    "\n",
    "print('Yega Services at your service \\nWe offer location:\\nibejulekki\\nepe')\n",
    "\n",
    "\n",
    "\n",
    "\n",
    "\n",
    "location = input('input the location: ')\n",
    "weight =int(input('input the weight: '))\n",
    "if weight >= 10 and location == 'ibejulekki':\n",
    "    ibejulekki()\n",
    "elif weight < 10 and location == 'ibejulekki':\n",
    "    ibejulekkiless()\n",
    "elif weight >= 10 and location == 'epe':\n",
    "    Epe()\n",
    "elif weight < 10 and location == 'epe':\n",
    "    Epeless()\n",
    "else:\n",
    "    print(\"we do not offer those sevices \")\n",
    "\n",
    "    "
   ]
  },
  {
   "cell_type": "code",
   "execution_count": null,
   "id": "fa73eba1",
   "metadata": {},
   "outputs": [],
   "source": [
    "i"
   ]
  }
 ],
 "metadata": {
  "kernelspec": {
   "display_name": "Python 3 (ipykernel)",
   "language": "python",
   "name": "python3"
  },
  "language_info": {
   "codemirror_mode": {
    "name": "ipython",
    "version": 3
   },
   "file_extension": ".py",
   "mimetype": "text/x-python",
   "name": "python",
   "nbconvert_exporter": "python",
   "pygments_lexer": "ipython3",
   "version": "3.10.9"
  }
 },
 "nbformat": 4,
 "nbformat_minor": 5
}
