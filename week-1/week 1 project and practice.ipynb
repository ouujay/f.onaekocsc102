{
 "cells": [
  {
   "cell_type": "code",
   "execution_count": 2,
   "id": "f1bc56c0",
   "metadata": {},
   "outputs": [
    {
     "name": "stdout",
     "output_type": "stream",
     "text": [
      "100\n",
      "Data type of variable is  <class 'int'>\n",
      "34.45\n",
      "Data type of variable fnum is <class 'float'>\n",
      "(3+4j)\n",
      "Data type of variable cnum is  <class 'complex'>\n"
     ]
    }
   ],
   "source": [
    "# INTEGER NUMBER\n",
    "num = 100\n",
    "print(num)\n",
    "print(\"Data type of variable is \", type(num))\n",
    "\n",
    "# float number\n",
    "fnum = 34.45\n",
    "print(fnum)\n",
    "print(\"Data type of variable fnum is\", type(fnum))\n",
    "\n",
    "#complex number\n",
    "cnum = 3 +4j\n",
    "print(cnum)\n",
    "print(\"Data type of variable cnum is \", type(cnum))"
   ]
  },
  {
   "cell_type": "code",
   "execution_count": 4,
   "id": "fec98817",
   "metadata": {},
   "outputs": [
    {
     "name": "stdout",
     "output_type": "stream",
     "text": [
      " hi my name is mathew. i am string\n",
      "<class 'str'>\n",
      " hi my name is precious . iam also a string \n",
      "<class 'str'>\n"
     ]
    }
   ],
   "source": [
    "# python program to print strings and type\n",
    "str1 = \" hi my name is mathew. i am string\"\n",
    "str2 = ' hi my name is precious . iam also a string '\n",
    "# displaying string str1 and its type \n",
    "print (str1)\n",
    "print(type(str1))\n",
    "\n",
    "# displaying string str2 and its type \n",
    "print(str2)\n",
    "print(type(str2))"
   ]
  },
  {
   "cell_type": "code",
   "execution_count": 1,
   "id": "67660106",
   "metadata": {},
   "outputs": [
    {
     "name": "stdout",
     "output_type": "stream",
     "text": [
      "Enter the interest you want to compute: simpleintrest \n",
      "Invalid input\n"
     ]
    }
   ],
   "source": [
    "class Interest:\n",
    "    def simple(self):\n",
    "        p = float(input('What is the principal: '))\n",
    "        r = float(input('What is the rate: '))\n",
    "        t = float(input('What is the time: '))\n",
    "        formula = p * (1 + (r / 100) * t)\n",
    "        return formula\n",
    "\n",
    "    def compound(self):\n",
    "        p = float(input('What is the principal: '))\n",
    "        r = float(input('What is the rate: '))\n",
    "        t = float(input('What is the time: '))\n",
    "        n = int(input('What is n: '))\n",
    "        formula = p * (1 + r / n) ** (n * t)\n",
    "        return formula\n",
    "\n",
    "    def annual(self):\n",
    "        p = float(input('What is the principal: '))\n",
    "        r = float(input('What is the rate: '))\n",
    "        t = float(input('What is the time: '))\n",
    "        n = int(input('What is n: '))\n",
    "        m = int(input('What iss m: '))\n",
    "        formula = p * m * t * (((1 + r / n) ** (n * t)) + 1) / (r / n)\n",
    "        return formula\n",
    "\n",
    "\n",
    "jones = Interest()\n",
    "\n",
    "ceq = input(\"Enter the interest you want to compute: \").lower()\n",
    "\n",
    "if ceq == \"simpleinterest\":\n",
    "    result = jones.simple()\n",
    "    print(\"Result:\", result)\n",
    "elif ceq == \"compound\":\n",
    "    result = jones.compound()\n",
    "    print(\"Result:\", result)\n",
    "elif ceq == \"annual\":\n",
    "    result = jones.annual()\n",
    "    print(\"Result:\", result)\n",
    "else:\n",
    "    print(\"Invalid input\")\n"
   ]
  },
  {
   "cell_type": "code",
   "execution_count": null,
   "id": "8a9b20be",
   "metadata": {},
   "outputs": [],
   "source": []
  },
  {
   "cell_type": "code",
   "execution_count": null,
   "id": "de8d369d",
   "metadata": {},
   "outputs": [],
   "source": []
  }
 ],
 "metadata": {
  "kernelspec": {
   "display_name": "Python 3 (ipykernel)",
   "language": "python",
   "name": "python3"
  },
  "language_info": {
   "codemirror_mode": {
    "name": "ipython",
    "version": 3
   },
   "file_extension": ".py",
   "mimetype": "text/x-python",
   "name": "python",
   "nbconvert_exporter": "python",
   "pygments_lexer": "ipython3",
   "version": "3.10.9"
  }
 },
 "nbformat": 4,
 "nbformat_minor": 5
}
