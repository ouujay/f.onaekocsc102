{
 "cells": [
  {
   "cell_type": "code",
   "execution_count": null,
   "id": "5a91552a",
   "metadata": {},
   "outputs": [],
   "source": [
    "#mini calculator\n",
    "num1 = float(input(\"enter first number: \"))\n",
    "op = input(\"enter operator: \")\n",
    "num2 = float(input(\"enter 2nd number: \"))\n",
    "\n",
    "if  op == \"+\":\n",
    "    print(num1+num2)\n",
    "elif op == \"-\":\n",
    "    print(num1 - num2)\n",
    "elif op == \"/\":\n",
    "    print(num1 / num2)\n",
    "elif op == \"*\":\n",
    "    print(num1 * num2)\n",
    "else:\n",
    "    print(\"invalid input\")"
   ]
  }
 ],
 "metadata": {
  "kernelspec": {
   "display_name": "Python 3 (ipykernel)",
   "language": "python",
   "name": "python3"
  },
  "language_info": {
   "codemirror_mode": {
    "name": "ipython",
    "version": 3
   },
   "file_extension": ".py",
   "mimetype": "text/x-python",
   "name": "python",
   "nbconvert_exporter": "python",
   "pygments_lexer": "ipython3",
   "version": "3.10.9"
  }
 },
 "nbformat": 4,
 "nbformat_minor": 5
}
