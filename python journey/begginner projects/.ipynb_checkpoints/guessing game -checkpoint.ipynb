{
 "cells": [
  {
   "cell_type": "code",
   "execution_count": null,
   "id": "2e9e78fc",
   "metadata": {},
   "outputs": [],
   "source": [
    "#while loop explained\n",
    "secretword =\"giraffe\"\n",
    "guess = \"\"\n",
    "guesscount = 0\n",
    "guess_limit = 3\n",
    "outofguesses = False\n",
    "\n",
    "while guess != secretword and not (outofguesses):\n",
    "    if guesscount < guesslimit:\n",
    "        guess = input(\"Enter guess: \")\n",
    "        guesscount += 1\n",
    "    else:\n",
    "        outofguesses = True\n",
    "if outofguesses:\n",
    "    print(\"out ofguesses, you lose\")\n",
    "else:\n",
    "    print(\"You win\")"
   ]
  }
 ],
 "metadata": {
  "kernelspec": {
   "display_name": "Python 3 (ipykernel)",
   "language": "python",
   "name": "python3"
  },
  "language_info": {
   "codemirror_mode": {
    "name": "ipython",
    "version": 3
   },
   "file_extension": ".py",
   "mimetype": "text/x-python",
   "name": "python",
   "nbconvert_exporter": "python",
   "pygments_lexer": "ipython3",
   "version": "3.10.9"
  }
 },
 "nbformat": 4,
 "nbformat_minor": 5
}
