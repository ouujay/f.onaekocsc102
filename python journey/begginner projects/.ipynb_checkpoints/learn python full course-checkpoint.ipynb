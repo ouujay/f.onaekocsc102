{
 "cells": [
  {
   "cell_type": "code",
   "execution_count": 7,
   "id": "c0fb1058",
   "metadata": {},
   "outputs": [
    {
     "name": "stdout",
     "output_type": "stream",
     "text": [
      "Hello ade you are 15\n"
     ]
    }
   ],
   "source": [
    "#functions\n",
    "# you can edit list but not tuple\n",
    "def say_hi(name, age):\n",
    "    print(\"Hello \" + name + \" you are \" +str(age) )\n",
    "    \n",
    "\n",
    "say_hi(\"ade\", 15)"
   ]
  },
  {
   "cell_type": "code",
   "execution_count": null,
   "id": "72be87ac",
   "metadata": {},
   "outputs": [],
   "source": [
    "# return statement"
   ]
  }
 ],
 "metadata": {
  "kernelspec": {
   "display_name": "Python 3 (ipykernel)",
   "language": "python",
   "name": "python3"
  },
  "language_info": {
   "codemirror_mode": {
    "name": "ipython",
    "version": 3
   },
   "file_extension": ".py",
   "mimetype": "text/x-python",
   "name": "python",
   "nbconvert_exporter": "python",
   "pygments_lexer": "ipython3",
   "version": "3.10.9"
  }
 },
 "nbformat": 4,
 "nbformat_minor": 5
}
