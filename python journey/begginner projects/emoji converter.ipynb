{
 "cells": [
  {
   "cell_type": "code",
   "execution_count": null,
   "id": "bdf87072",
   "metadata": {},
   "outputs": [],
   "source": [
    "# function\n",
    "def emojiconverter(message):\n",
    "    words = message.split(' ')\n",
    "    emoji = {\n",
    "    \":)\":\"😁\",\n",
    "    \":(\":\"😒\"\n",
    "    }  \n",
    "    output = \"\"\n",
    "    for word in words:\n",
    "        output += emoji.get(word, word) + \" \"   \n",
    "    return output\n",
    "\n",
    "\n",
    "message = input(\">\")\n",
    "print(emojiconverter(message))\n"
   ]
  }
 ],
 "metadata": {
  "kernelspec": {
   "display_name": "Python 3 (ipykernel)",
   "language": "python",
   "name": "python3"
  },
  "language_info": {
   "codemirror_mode": {
    "name": "ipython",
    "version": 3
   },
   "file_extension": ".py",
   "mimetype": "text/x-python",
   "name": "python",
   "nbconvert_exporter": "python",
   "pygments_lexer": "ipython3",
   "version": "3.10.9"
  }
 },
 "nbformat": 4,
 "nbformat_minor": 5
}
