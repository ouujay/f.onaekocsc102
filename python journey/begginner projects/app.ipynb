{
 "cells": [
  {
   "cell_type": "code",
   "execution_count": null,
   "id": "feac85f8",
   "metadata": {},
   "outputs": [],
   "source": [
    "from question import question\n",
    "\n",
    "questions = [\n",
    "    question(question_prompt[0], \"a\")\n",
    "    question(question_prompt[1], \"c\")\n",
    "    question(question_prompt[2], \"b\")  \n",
    "]\n",
    "def run_test(questions):\n",
    "    score = 0\n",
    "    for question in questions:\n",
    "        answer = input(question.prompt)\n",
    "        if answer == question.answer:\n",
    "            score += 1\n",
    "    print(\"You got\" + str(score) + \"/\" + str(len(questions)) + \"correct\")"
   ]
  }
 ],
 "metadata": {
  "kernelspec": {
   "display_name": "Python 3 (ipykernel)",
   "language": "python",
   "name": "python3"
  },
  "language_info": {
   "codemirror_mode": {
    "name": "ipython",
    "version": 3
   },
   "file_extension": ".py",
   "mimetype": "text/x-python",
   "name": "python",
   "nbconvert_exporter": "python",
   "pygments_lexer": "ipython3",
   "version": "3.10.9"
  }
 },
 "nbformat": 4,
 "nbformat_minor": 5
}
