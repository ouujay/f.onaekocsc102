{
 "cells": [
  {
   "cell_type": "code",
   "execution_count": null,
   "id": "b8ee4829",
   "metadata": {},
   "outputs": [],
   "source": [
    "name = input(\"what is your 1st name: \")\n",
    "name2 = input(\"what is your 2nd name: \")\n",
    "age = int(input(\"what is your age: \"))\n",
    "age2 = int(input(\"what is your age: \"))\n",
    "\n",
    "print (f\"{name} , {age2} \")\n",
    "print (f\"{name2} , {age} \")"
   ]
  }
 ],
 "metadata": {
  "kernelspec": {
   "display_name": "Python 3 (ipykernel)",
   "language": "python",
   "name": "python3"
  },
  "language_info": {
   "codemirror_mode": {
    "name": "ipython",
    "version": 3
   },
   "file_extension": ".py",
   "mimetype": "text/x-python",
   "name": "python",
   "nbconvert_exporter": "python",
   "pygments_lexer": "ipython3",
   "version": "3.10.9"
  }
 },
 "nbformat": 4,
 "nbformat_minor": 5
}
