{
 "cells": [
  {
   "cell_type": "code",
   "execution_count": 9,
   "id": "50a461d3",
   "metadata": {},
   "outputs": [
    {
     "name": "stdout",
     "output_type": "stream",
     "text": [
      "Enter the number of oranges you want to buy: 9\n",
      "You bought 9 oranges. The total cost is N90.\n",
      "Current stock quantity: 91\n",
      "Thank you for your patronage!\n"
     ]
    }
   ],
   "source": [
    "class OrangeStore:\n",
    "    def __init__(self, stock_quantity, price_per_orange):\n",
    "        self.stock_quantity = stock_quantity\n",
    "        self.price_per_orange = price_per_orange\n",
    "\n",
    "    def buy_oranges(self, quantity):\n",
    "        if quantity > self.stock_quantity:\n",
    "            print(f\"Sorry, we only have {self.stock_quantity} oranges in stock.\")\n",
    "        else:\n",
    "            cost = quantity * self.price_per_orange\n",
    "            self.stock_quantity -= quantity\n",
    "            print(f\"You bought {quantity} oranges. The total cost is N{cost}.\")\n",
    "\n",
    "    def display_stock(self):\n",
    "        print(f\"Current stock quantity: {self.stock_quantity}\")\n",
    "\n",
    "\n",
    "# Example usage\n",
    "stock_quantity = 100  # Initial stock quantity\n",
    "price_per_orange = 10  # Price per orange\n",
    "\n",
    "store = OrangeStore(stock_quantity, price_per_orange)\n",
    "\n",
    "quantity_to_buy = int(input(\"Enter the number of oranges you want to buy: \"))\n",
    "store.buy_oranges(quantity_to_buy)\n",
    "\n",
    "store.display_stock()\n",
    "\n",
    "print(\"Thank you for your patronage!\")"
   ]
  },
  {
   "cell_type": "code",
   "execution_count": null,
   "id": "5a6e4a69",
   "metadata": {},
   "outputs": [],
   "source": [
    " class calculator:\n",
    "    def trapezium():\n",
    "        a = int(input(\"what is your height\"))\n",
    "        b = int(input(\"what is your base\"))\n",
    "        b2 = int(input(\"what is your 2nd base\"))\n",
    "        formula = a * 0.5 * (b+b2)\n",
    "        return formula\n",
    "    def rhombus():\n",
    "        d1 = int(input(\"what is the diagonal\"))\n",
    "        d2 = int (input(\"what is the diagonl2\"))\n",
    "        formla = 0.5 * d1 * d2\n",
    "        return formula\n",
    "    def parallelogram():\n",
    "        b1 =int(input(\"what is the first base \"))\n",
    "        a = int(input(\"what is your altitude\"))\n",
    "        formula = b1 * a\n",
    "        return formula\n",
    "    def cube():\n",
    "        l = int(input(\"what is the length\"))\n",
    "        formula = 6 * l * l\n",
    "        return fromula\n",
    "    def cylinder():\n",
    "        h = int(input(\"what is your height \"))\n",
    "        r = int(input(\"what is your radius\"))\n",
    "        formula = 3.14 * h * r * r\n",
    "        return  formula\n",
    "    \n",
    "jones = calculator\n",
    "\n",
    "ceq = input(\"Enter the shape of the object you want to compute:\").lower()\n",
    "\n",
    "if ceq == \"trapezium\":\n",
    "    jones.trapezium()\n",
    "\n",
    "elif ceq == \"rhombus\":\n",
    "    jones.rhombus()\n",
    "\n",
    "elif ceq == \"parallelogram\":\n",
    "    jones.parallelogram()\n",
    "    \n",
    "elif ceq == \"cube\":\n",
    "    jones.cube()\n",
    "    \n",
    "elif ceq == \"cylinder\":\n",
    "    jones.cylinder()\n",
    "    \n",
    "else:\n",
    "    print(\"invalid input\")\n",
    "\n",
    "\n",
    "\n",
    "    "
   ]
  },
  {
   "cell_type": "code",
   "execution_count": null,
   "id": "201be1c2",
   "metadata": {},
   "outputs": [],
   "source": []
  }
 ],
 "metadata": {
  "kernelspec": {
   "display_name": "Python 3 (ipykernel)",
   "language": "python",
   "name": "python3"
  },
  "language_info": {
   "codemirror_mode": {
    "name": "ipython",
    "version": 3
   },
   "file_extension": ".py",
   "mimetype": "text/x-python",
   "name": "python",
   "nbconvert_exporter": "python",
   "pygments_lexer": "ipython3",
   "version": "3.10.9"
  }
 },
 "nbformat": 4,
 "nbformat_minor": 5
}
