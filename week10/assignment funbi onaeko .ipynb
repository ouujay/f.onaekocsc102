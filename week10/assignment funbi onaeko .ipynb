{
 "cells": [
  {
   "cell_type": "code",
   "execution_count": 16,
   "id": "d1fa8de1",
   "metadata": {},
   "outputs": [
    {
     "name": "stdout",
     "output_type": "stream",
     "text": [
      "Student Details:\n",
      "         Name Matric Number Department  Level\n",
      " Oluchi Mordi   ACC10211111 Accounting    300\n",
      "  Adams Aliyu   ECO10110101  Economics    100\n",
      "Shania Bolade   CSC10328828   Computer    200\n",
      "Adekunle Gold   EEE11020202 Electrical    200\n",
      " Blanca Edmoh   MEE10202001 Mechanical    100\n"
     ]
    }
   ],
   "source": [
    "import pandas as pd\n",
    "\n",
    "student_data = {\n",
    "    'Name': ['Oluchi Mordi', 'Adams Aliyu', 'Shania Bolade', 'Adekunle Gold', 'Blanca Edmoh'],\n",
    "    'Matric Number': ['ACC10211111', 'ECO10110101', 'CSC10328828', 'EEE11020202', 'MEE10202001'],\n",
    "    'Department': ['Accounting', 'Economics', 'Computer', 'Electrical', 'Mechanical'],\n",
    "    'Level': [300, 100, 200, 200, 100]\n",
    "}\n",
    "\n",
    "student_df = pd.DataFrame(student_data)\n",
    "\n",
    "# Display student DataFrame\n",
    "print(\"Student Details:\")\n",
    "print(student_df.to_string(index=False))\n",
    "\n",
    "# Save student DataFrame to Excel\n",
    "student_df.to_excel(\"student_details.xlsx\", index=False)\n"
   ]
  },
  {
   "cell_type": "code",
   "execution_count": 15,
   "id": "16e5073c",
   "metadata": {},
   "outputs": [],
   "source": [
    "import pandas as pd\n",
    "\n",
    "company_info = {\n",
    "    'Company Name': ['Enron', 'Anderson', 'GK Jones', 'Mica', 'Dune'],\n",
    "    'Year Founded': [1987, 1936, 2001, 1996, 2008],\n",
    "    'Total Assets': [1000000, 1500000, 3000000, 250000, 800000],\n",
    "    'Total Liabilities': [200000, 500000, 1500000, 50000, 300000]\n",
    "}\n",
    "\n",
    "company_df = pd.DataFrame(company_info)\n",
    "\n",
    "# Calculate percentage leverage\n",
    "company_df['Leverage Percentage'] = (company_df['Total Assets'] - company_df['Total Liabilities']) / company_df['Total Assets'] * 100\n",
    "\n",
    "# Save company information to Excel\n",
    "company_df.to_excel(\"company_info.xlsx\", index=False)"
   ]
  },
  {
   "cell_type": "code",
   "execution_count": null,
   "id": "6923956f",
   "metadata": {},
   "outputs": [],
   "source": []
  },
  {
   "cell_type": "code",
   "execution_count": null,
   "id": "8ffef64d",
   "metadata": {},
   "outputs": [],
   "source": []
  }
 ],
 "metadata": {
  "kernelspec": {
   "display_name": "Python 3 (ipykernel)",
   "language": "python",
   "name": "python3"
  },
  "language_info": {
   "codemirror_mode": {
    "name": "ipython",
    "version": 3
   },
   "file_extension": ".py",
   "mimetype": "text/x-python",
   "name": "python",
   "nbconvert_exporter": "python",
   "pygments_lexer": "ipython3",
   "version": "3.10.9"
  }
 },
 "nbformat": 4,
 "nbformat_minor": 5
}
