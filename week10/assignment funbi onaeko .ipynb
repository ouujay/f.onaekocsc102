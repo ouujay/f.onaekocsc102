{
 "cells": [
  {
   "cell_type": "code",
   "execution_count": 2,
   "id": "d1fa8de1",
   "metadata": {},
   "outputs": [
    {
     "ename": "ModuleNotFoundError",
     "evalue": "No module named 'pandas'",
     "output_type": "error",
     "traceback": [
      "\u001b[1;31m---------------------------------------------------------------------------\u001b[0m",
      "\u001b[1;31mModuleNotFoundError\u001b[0m                       Traceback (most recent call last)",
      "Cell \u001b[1;32mIn[2], line 1\u001b[0m\n\u001b[1;32m----> 1\u001b[0m \u001b[39mimport\u001b[39;00m \u001b[39mpandas\u001b[39;00m \u001b[39mas\u001b[39;00m \u001b[39mpd\u001b[39;00m\n\u001b[0;32m      3\u001b[0m student_data \u001b[39m=\u001b[39m {\n\u001b[0;32m      4\u001b[0m     \u001b[39m'\u001b[39m\u001b[39mName\u001b[39m\u001b[39m'\u001b[39m: [\u001b[39m'\u001b[39m\u001b[39mOluchi Mordi\u001b[39m\u001b[39m'\u001b[39m, \u001b[39m'\u001b[39m\u001b[39mAdams Aliyu\u001b[39m\u001b[39m'\u001b[39m, \u001b[39m'\u001b[39m\u001b[39mShania Bolade\u001b[39m\u001b[39m'\u001b[39m, \u001b[39m'\u001b[39m\u001b[39mAdekunle Gold\u001b[39m\u001b[39m'\u001b[39m, \u001b[39m'\u001b[39m\u001b[39mBlanca Edmoh\u001b[39m\u001b[39m'\u001b[39m],\n\u001b[0;32m      5\u001b[0m     \u001b[39m'\u001b[39m\u001b[39mMatric Number\u001b[39m\u001b[39m'\u001b[39m: [\u001b[39m'\u001b[39m\u001b[39mACC10211111\u001b[39m\u001b[39m'\u001b[39m, \u001b[39m'\u001b[39m\u001b[39mECO10110101\u001b[39m\u001b[39m'\u001b[39m, \u001b[39m'\u001b[39m\u001b[39mCSC10328828\u001b[39m\u001b[39m'\u001b[39m, \u001b[39m'\u001b[39m\u001b[39mEEE11020202\u001b[39m\u001b[39m'\u001b[39m, \u001b[39m'\u001b[39m\u001b[39mMEE10202001\u001b[39m\u001b[39m'\u001b[39m],\n\u001b[0;32m      6\u001b[0m     \u001b[39m'\u001b[39m\u001b[39mDepartment\u001b[39m\u001b[39m'\u001b[39m: [\u001b[39m'\u001b[39m\u001b[39mAccounting\u001b[39m\u001b[39m'\u001b[39m, \u001b[39m'\u001b[39m\u001b[39mEconomics\u001b[39m\u001b[39m'\u001b[39m, \u001b[39m'\u001b[39m\u001b[39mComputer\u001b[39m\u001b[39m'\u001b[39m, \u001b[39m'\u001b[39m\u001b[39mElectrical\u001b[39m\u001b[39m'\u001b[39m, \u001b[39m'\u001b[39m\u001b[39mMechanical\u001b[39m\u001b[39m'\u001b[39m],\n\u001b[0;32m      7\u001b[0m     \u001b[39m'\u001b[39m\u001b[39mLevel\u001b[39m\u001b[39m'\u001b[39m: [\u001b[39m300\u001b[39m, \u001b[39m100\u001b[39m, \u001b[39m200\u001b[39m, \u001b[39m200\u001b[39m, \u001b[39m100\u001b[39m]\n\u001b[0;32m      8\u001b[0m }\n\u001b[0;32m     10\u001b[0m student_df \u001b[39m=\u001b[39m pd\u001b[39m.\u001b[39mDataFrame(student_data)\n",
      "\u001b[1;31mModuleNotFoundError\u001b[0m: No module named 'pandas'"
     ]
    }
   ],
   "source": [
    "import pandas as pd\n",
    "\n",
    "student_data = {\n",
    "    'Name': ['Oluchi Mordi', 'Adams Aliyu', 'Shania Bolade', 'Adekunle Gold', 'Blanca Edmoh'],\n",
    "    'Matric Number': ['ACC10211111', 'ECO10110101', 'CSC10328828', 'EEE11020202', 'MEE10202001'],\n",
    "    'Department': ['Accounting', 'Economics', 'Computer', 'Electrical', 'Mechanical'],\n",
    "    'Level': [300, 100, 200, 200, 100]\n",
    "}\n",
    "\n",
    "student_df = pd.DataFrame(student_data)\n",
    "\n",
    "# Display student DataFrame\n",
    "print(\"Student Details:\")\n",
    "print(student_df.to_string(index=False))\n",
    "\n",
    "# Save student DataFrame to Excel\n",
    "student_df.to_excel(\"student_details.xlsx\", index=False)\n"
   ]
  },
  {
   "cell_type": "code",
   "execution_count": null,
   "id": "16e5073c",
   "metadata": {},
   "outputs": [
    {
     "ename": "",
     "evalue": "",
     "output_type": "error",
     "traceback": [
      "\u001b[1;31mRunning cells with 'c:\\Users\\sbnuf\\AppData\\Local\\Programs\\Python\\Python311\\python.exe' requires the ipykernel package.\n",
      "\u001b[1;31mRun the following command to install 'ipykernel' into the Python environment. \n",
      "\u001b[1;31mCommand: 'c:/Users/sbnuf/AppData/Local/Programs/Python/Python311/python.exe -m pip install ipykernel -U --user --force-reinstall'"
     ]
    }
   ],
   "source": [
    "import pandas as pd\n",
    "\n",
    "company_info = {\n",
    "    'Company Name': ['Enron', 'Anderson', 'GK Jones', 'Mica', 'Dune'],\n",
    "    'Year Founded': [1987, 1936, 2001, 1996, 2008],\n",
    "    'Total Assets': [1000000, 1500000, 3000000, 250000, 800000],\n",
    "    'Total Liabilities': [200000, 500000, 1500000, 50000, 300000]\n",
    "}\n",
    "\n",
    "company_df = pd.DataFrame(company_info)\n",
    "\n",
    "# Calculate percentage leverage\n",
    "company_df['Leverage Percentage'] = (company_df['Total Assets'] - company_df['Total Liabilities']) / company_df['Total Assets'] * 100\n",
    "\n",
    "# Save company information to Excel\n",
    "company_df.to_excel(\"company_info.xlsx\", index=False)"
   ]
  },
  {
   "cell_type": "code",
   "execution_count": null,
   "id": "6923956f",
   "metadata": {},
   "outputs": [
    {
     "ename": "",
     "evalue": "",
     "output_type": "error",
     "traceback": [
      "\u001b[1;31mRunning cells with 'c:\\Users\\sbnuf\\AppData\\Local\\Programs\\Python\\Python311\\python.exe' requires the ipykernel package.\n",
      "\u001b[1;31mRun the following command to install 'ipykernel' into the Python environment. \n",
      "\u001b[1;31mCommand: 'c:/Users/sbnuf/AppData/Local/Programs/Python/Python311/python.exe -m pip install ipykernel -U --user --force-reinstall'"
     ]
    }
   ],
   "source": []
  },
  {
   "cell_type": "code",
   "execution_count": null,
   "id": "8ffef64d",
   "metadata": {},
   "outputs": [
    {
     "ename": "",
     "evalue": "",
     "output_type": "error",
     "traceback": [
      "\u001b[1;31mRunning cells with 'c:\\Users\\sbnuf\\AppData\\Local\\Programs\\Python\\Python311\\python.exe' requires the ipykernel package.\n",
      "\u001b[1;31mRun the following command to install 'ipykernel' into the Python environment. \n",
      "\u001b[1;31mCommand: 'c:/Users/sbnuf/AppData/Local/Programs/Python/Python311/python.exe -m pip install ipykernel -U --user --force-reinstall'"
     ]
    }
   ],
   "source": []
  }
 ],
 "metadata": {
  "kernelspec": {
   "display_name": "Python 3 (ipykernel)",
   "language": "python",
   "name": "python3"
  },
  "language_info": {
   "codemirror_mode": {
    "name": "ipython",
    "version": 3
   },
   "file_extension": ".py",
   "mimetype": "text/x-python",
   "name": "python",
   "nbconvert_exporter": "python",
   "pygments_lexer": "ipython3",
   "version": "3.11.1"
  }
 },
 "nbformat": 4,
 "nbformat_minor": 5
}
